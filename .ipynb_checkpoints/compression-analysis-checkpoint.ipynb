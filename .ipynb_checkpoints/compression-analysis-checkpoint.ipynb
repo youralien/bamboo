{
 "metadata": {
  "name": ""
 },
 "nbformat": 3,
 "nbformat_minor": 0,
 "worksheets": [
  {
   "cells": [
    {
     "cell_type": "code",
     "collapsed": false,
     "input": [
      "%matplotlib inline\n",
      "import pandas as pd\n",
      "import matplotlib.pyplot as plt"
     ],
     "language": "python",
     "metadata": {},
     "outputs": [],
     "prompt_number": 4
    },
    {
     "cell_type": "code",
     "collapsed": false,
     "input": [
      "import numpy as np"
     ],
     "language": "python",
     "metadata": {},
     "outputs": [],
     "prompt_number": 17
    },
    {
     "cell_type": "code",
     "collapsed": false,
     "input": [
      "r9 = pd.read_csv('bamboo-r-9mm.csv')\n",
      "r18 = pd.read_csv('bamboo-r-18mm.csv')\n",
      "d9 = pd.read_csv('bamboo-d-9mm.csv')\n",
      "d19 = pd.read_csv('bamboo-d-18mm.csv')"
     ],
     "language": "python",
     "metadata": {},
     "outputs": [],
     "prompt_number": 5
    },
    {
     "cell_type": "code",
     "collapsed": false,
     "input": [
      "r9[:5]"
     ],
     "language": "python",
     "metadata": {},
     "outputs": [
      {
       "html": [
        "<div style=\"max-height:1000px;max-width:1500px;overflow:auto;\">\n",
        "<table border=\"1\" class=\"dataframe\">\n",
        "  <thead>\n",
        "    <tr style=\"text-align: right;\">\n",
        "      <th></th>\n",
        "      <th>Time sec</th>\n",
        "      <th>Extension mm</th>\n",
        "      <th>Load kgf</th>\n",
        "      <th>Compressive stress MPa</th>\n",
        "      <th>Cycle Count </th>\n",
        "      <th>Total Cycle Count </th>\n",
        "      <th>Repetitions Count </th>\n",
        "      <th>Marked Data </th>\n",
        "      <th>PIP Count </th>\n",
        "      <th>Compressive extension mm</th>\n",
        "      <th>Compressive strain %</th>\n",
        "      <th>Compressive load kgf</th>\n",
        "      <th>Displacement (Strain 1) mm</th>\n",
        "      <th>True strain %</th>\n",
        "      <th>Corrected Position mm</th>\n",
        "      <th>True stress Pa</th>\n",
        "    </tr>\n",
        "  </thead>\n",
        "  <tbody>\n",
        "    <tr>\n",
        "      <th>0</th>\n",
        "      <td> 0.0</td>\n",
        "      <td> 0.000000</td>\n",
        "      <td>-0.024587</td>\n",
        "      <td> 0.000143</td>\n",
        "      <td> 0</td>\n",
        "      <td> 0</td>\n",
        "      <td> 0</td>\n",
        "      <td> 0</td>\n",
        "      <td> 0</td>\n",
        "      <td> 0.000000</td>\n",
        "      <td> 0.000000</td>\n",
        "      <td> 0.024587</td>\n",
        "      <td> 0</td>\n",
        "      <td>            0</td>\n",
        "      <td> 0.000000</td>\n",
        "      <td> 143.4601</td>\n",
        "    </tr>\n",
        "    <tr>\n",
        "      <th>1</th>\n",
        "      <td> 0.1</td>\n",
        "      <td>-0.000179</td>\n",
        "      <td> 0.071968</td>\n",
        "      <td>-0.000420</td>\n",
        "      <td> 0</td>\n",
        "      <td> 0</td>\n",
        "      <td> 0</td>\n",
        "      <td> 0</td>\n",
        "      <td> 0</td>\n",
        "      <td> 0.000179</td>\n",
        "      <td> 0.000956</td>\n",
        "      <td>-0.071968</td>\n",
        "      <td> 0</td>\n",
        "      <td> 0.0009556173</td>\n",
        "      <td>-0.000179</td>\n",
        "      <td>-419.9112</td>\n",
        "    </tr>\n",
        "    <tr>\n",
        "      <th>2</th>\n",
        "      <td> 0.2</td>\n",
        "      <td>-0.000837</td>\n",
        "      <td> 0.109520</td>\n",
        "      <td>-0.000639</td>\n",
        "      <td> 0</td>\n",
        "      <td> 0</td>\n",
        "      <td> 0</td>\n",
        "      <td> 0</td>\n",
        "      <td> 0</td>\n",
        "      <td> 0.000837</td>\n",
        "      <td> 0.004460</td>\n",
        "      <td>-0.109520</td>\n",
        "      <td> 0</td>\n",
        "      <td>  0.004459625</td>\n",
        "      <td>-0.000837</td>\n",
        "      <td>-638.9894</td>\n",
        "    </tr>\n",
        "    <tr>\n",
        "      <th>3</th>\n",
        "      <td> 0.3</td>\n",
        "      <td>-0.002332</td>\n",
        "      <td> 0.050995</td>\n",
        "      <td>-0.000298</td>\n",
        "      <td> 0</td>\n",
        "      <td> 0</td>\n",
        "      <td> 0</td>\n",
        "      <td> 0</td>\n",
        "      <td> 0</td>\n",
        "      <td> 0.002332</td>\n",
        "      <td> 0.012423</td>\n",
        "      <td>-0.050995</td>\n",
        "      <td> 0</td>\n",
        "      <td>   0.01242374</td>\n",
        "      <td>-0.002332</td>\n",
        "      <td>-297.5066</td>\n",
        "    </tr>\n",
        "    <tr>\n",
        "      <th>4</th>\n",
        "      <td> 0.4</td>\n",
        "      <td>-0.004604</td>\n",
        "      <td> 0.024030</td>\n",
        "      <td>-0.000140</td>\n",
        "      <td> 0</td>\n",
        "      <td> 0</td>\n",
        "      <td> 0</td>\n",
        "      <td> 0</td>\n",
        "      <td> 0</td>\n",
        "      <td> 0.004604</td>\n",
        "      <td> 0.024527</td>\n",
        "      <td>-0.024030</td>\n",
        "      <td> 0</td>\n",
        "      <td>    0.0245304</td>\n",
        "      <td>-0.004604</td>\n",
        "      <td>-140.1737</td>\n",
        "    </tr>\n",
        "  </tbody>\n",
        "</table>\n",
        "<p>5 rows \u00d7 16 columns</p>\n",
        "</div>"
       ],
       "metadata": {},
       "output_type": "pyout",
       "prompt_number": 7,
       "text": [
        "   Time sec  Extension mm  Load kgf  Compressive stress MPa  Cycle Count   \\\n",
        "0       0.0      0.000000 -0.024587                0.000143             0   \n",
        "1       0.1     -0.000179  0.071968               -0.000420             0   \n",
        "2       0.2     -0.000837  0.109520               -0.000639             0   \n",
        "3       0.3     -0.002332  0.050995               -0.000298             0   \n",
        "4       0.4     -0.004604  0.024030               -0.000140             0   \n",
        "\n",
        "   Total Cycle Count   Repetitions Count   Marked Data   PIP Count   \\\n",
        "0                   0                   0             0           0   \n",
        "1                   0                   0             0           0   \n",
        "2                   0                   0             0           0   \n",
        "3                   0                   0             0           0   \n",
        "4                   0                   0             0           0   \n",
        "\n",
        "   Compressive extension mm  Compressive strain %  Compressive load kgf  \\\n",
        "0                  0.000000              0.000000              0.024587   \n",
        "1                  0.000179              0.000956             -0.071968   \n",
        "2                  0.000837              0.004460             -0.109520   \n",
        "3                  0.002332              0.012423             -0.050995   \n",
        "4                  0.004604              0.024527             -0.024030   \n",
        "\n",
        "   Displacement (Strain 1) mm True strain %  Corrected Position mm  \\\n",
        "0                           0             0               0.000000   \n",
        "1                           0  0.0009556173              -0.000179   \n",
        "2                           0   0.004459625              -0.000837   \n",
        "3                           0    0.01242374              -0.002332   \n",
        "4                           0     0.0245304              -0.004604   \n",
        "\n",
        "   True stress Pa  \n",
        "0        143.4601  \n",
        "1       -419.9112  \n",
        "2       -638.9894  \n",
        "3       -297.5066  \n",
        "4       -140.1737  \n",
        "\n",
        "[5 rows x 16 columns]"
       ]
      }
     ],
     "prompt_number": 7
    },
    {
     "cell_type": "code",
     "collapsed": false,
     "input": [
      "fig, ax = plt.subplots(figsize=(8,5))\n",
      "x = 'Compressive strain %'\n",
      "y = 'Compressive stress MPa'\n",
      "ax = r9.plot(y=y, x=x, ylim=[0, 40])\n",
      "ax.set_xlabel('Compressive strain %')\n",
      "ax.set_ylabel('Compressive stress MPa')"
     ],
     "language": "python",
     "metadata": {},
     "outputs": [
      {
       "metadata": {},
       "output_type": "pyout",
       "prompt_number": 40,
       "text": [
        "<matplotlib.text.Text at 0x5a01dd0>"
       ]
      },
      {
       "metadata": {},
       "output_type": "display_data",
       "png": "[encoded data removed]",
       "text": [
        "<matplotlib.figure.Figure at 0x5387310>"
       ]
      }
     ],
     "prompt_number": 40
    },
    {
     "cell_type": "code",
     "collapsed": false,
     "input": [
      "plt.plot(r9['Compressive strain %'][100:800])"
     ],
     "language": "python",
     "metadata": {},
     "outputs": [
      {
       "metadata": {},
       "output_type": "pyout",
       "prompt_number": 29,
       "text": [
        "[<matplotlib.lines.Line2D at 0x4454ed0>]"
       ]
      },
      {
       "metadata": {},
       "output_type": "display_data",
       "png": "[encoded data removed]",
       "text": [
        "<matplotlib.figure.Figure at 0x43b37d0>"
       ]
      }
     ],
     "prompt_number": 29
    },
    {
     "cell_type": "code",
     "collapsed": false,
     "input": [
      "np.polyfit(r9['Compressive strain %'][100:800], r9[y][100:800], 0)"
     ],
     "language": "python",
     "metadata": {},
     "outputs": [
      {
       "metadata": {},
       "output_type": "pyout",
       "prompt_number": 30,
       "text": [
        "array([ 12.02365624])"
       ]
      }
     ],
     "prompt_number": 30
    },
    {
     "cell_type": "code",
     "collapsed": false,
     "input": [
      "fig, ax = plt.subplots(figsize=(8,5))\n",
      "x = 'Compressive strain %'\n",
      "y = 'Compressive stress MPa'\n",
      "ax = d9.plot(y=y, x=x, ylim=[0, 40])\n",
      "ax.set_xlabel('Compressive strain %')\n",
      "ax.set_ylabel('Compressive stress MPa')"
     ],
     "language": "python",
     "metadata": {},
     "outputs": [
      {
       "metadata": {},
       "output_type": "pyout",
       "prompt_number": 39,
       "text": [
        "<matplotlib.text.Text at 0x5594610>"
       ]
      },
      {
       "metadata": {},
       "output_type": "display_data",
       "png": "[encoded data removed]",
       "text": [
        "<matplotlib.figure.Figure at 0x558a650>"
       ]
      }
     ],
     "prompt_number": 39
    },
    {
     "cell_type": "code",
     "collapsed": false,
     "input": [
      "plt.plot(d9['Compressive strain %'][100:800])"
     ],
     "language": "python",
     "metadata": {},
     "outputs": [
      {
       "metadata": {},
       "output_type": "pyout",
       "prompt_number": 41,
       "text": [
        "[<matplotlib.lines.Line2D at 0x5ecf350>]"
       ]
      },
      {
       "metadata": {},
       "output_type": "display_data",
       "png": "[encoded data removed]",
       "text": [
        "<matplotlib.figure.Figure at 0x46733d0>"
       ]
      }
     ],
     "prompt_number": 41
    },
    {
     "cell_type": "code",
     "collapsed": false,
     "input": [
      "np.polyfit(d9['Compressive strain %'][100:800], d9[y][100:800], 0)"
     ],
     "language": "python",
     "metadata": {},
     "outputs": [
      {
       "metadata": {},
       "output_type": "pyout",
       "prompt_number": 42,
       "text": [
        "array([ 16.70211388])"
       ]
      }
     ],
     "prompt_number": 42
    }
   ],
   "metadata": {}
  }
 ]
}